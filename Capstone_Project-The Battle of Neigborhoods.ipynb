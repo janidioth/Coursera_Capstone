{
 "cells": [
  {
   "cell_type": "markdown",
   "metadata": {},
   "source": [
    "# **Applied Data Science Capstone Project**\n",
    "### **The Battle of Neigborhoods**"
   ]
  },
  {
   "cell_type": "markdown",
   "metadata": {},
   "source": [
    "## Introduction"
   ]
  },
  {
   "cell_type": "markdown",
   "metadata": {},
   "source": [
    "For the **IBM Applied Data Science Capstone Project**, we were instructed to use the skills and tools we had \n",
    "learned in the previous weeks of the course to use location data to explore a geographical location using the \n",
    "Foursquare location data to solve problem."
   ]
  },
  {
   "cell_type": "markdown",
   "metadata": {},
   "source": [
    "## Business Problem"
   ]
  },
  {
   "cell_type": "markdown",
   "metadata": {},
   "source": [
    "There are many Chinese restaurants in New York City. This project will examine 3 of the boroughs, namely, Manhattan,\n",
    "Brooklyn and the Queens to find the optimal location to open another Chinese restaurant in a location that do not \n",
    "have much competition but yet will be welcome to the neighborhood."
   ]
  },
  {
   "cell_type": "markdown",
   "metadata": {},
   "source": [
    "## Data"
   ]
  },
  {
   "cell_type": "markdown",
   "metadata": {},
   "source": [
    "The data used in this project is borrowed from the week 3 exercise where the New York City dataset can be found via the link: https://geo.nyu.edu/catalog/nyu_2451_34572.\n",
    "\n",
    "For this project, only 3 of the 5 boroughs in the dataset is examined to find the optimal location in a neighborhood to open the Chinese restaurant. The neighborhood need to only have a few Chinese restaurants to keep competition at bay. \n",
    "\n",
    "The Foursquare API is used to explore neighborhoods in these 3 boroughs in New York City. The Foursquare API explore function will be used to get the most common venue categories in each neighborhood of each of the 3 boroughs to group the neighborhoods into clusters for examination. "
   ]
  },
  {
   "cell_type": "code",
   "execution_count": null,
   "metadata": {},
   "outputs": [],
   "source": []
  }
 ],
 "metadata": {
  "kernelspec": {
   "display_name": "Python 3",
   "language": "python",
   "name": "python3"
  },
  "language_info": {
   "codemirror_mode": {
    "name": "ipython",
    "version": 3
   },
   "file_extension": ".py",
   "mimetype": "text/x-python",
   "name": "python",
   "nbconvert_exporter": "python",
   "pygments_lexer": "ipython3",
   "version": "3.7.3"
  }
 },
 "nbformat": 4,
 "nbformat_minor": 4
}
